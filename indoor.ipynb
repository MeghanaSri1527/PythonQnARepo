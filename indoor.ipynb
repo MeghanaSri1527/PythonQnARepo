{
  "nbformat": 4,
  "nbformat_minor": 0,
  "metadata": {
    "colab": {
      "provenance": [],
      "authorship_tag": "ABX9TyMEQ2Exxtaf7hEzpNrnQ0OE",
      "include_colab_link": true
    },
    "kernelspec": {
      "name": "python3",
      "display_name": "Python 3"
    },
    "language_info": {
      "name": "python"
    }
  },
  "cells": [
    {
      "cell_type": "markdown",
      "metadata": {
        "id": "view-in-github",
        "colab_type": "text"
      },
      "source": [
        "<a href=\"https://colab.research.google.com/github/MeghanaSri1527/PythonQnARepo/blob/main/indoor.ipynb\" target=\"_parent\"><img src=\"https://colab.research.google.com/assets/colab-badge.svg\" alt=\"Open In Colab\"/></a>"
      ]
    },
    {
      "cell_type": "code",
      "execution_count": null,
      "metadata": {
        "colab": {
          "base_uri": "https://localhost:8080/"
        },
        "id": "soWx3L9D_6tB",
        "outputId": "0ffe03f5-8686-4a4e-b731-37ce7dafdcbf"
      },
      "outputs": [
        {
          "output_type": "stream",
          "name": "stdout",
          "text": [
            "Enter a line:this IS CSE\n",
            "this is cse\n"
          ]
        }
      ],
      "source": [
        "def change(text):\n",
        "  result=\"\"\n",
        "  for i in range(len(text)):\n",
        "    if text[i].upper():\n",
        "      result+=text[i].lower()\n",
        "  return result\n",
        "stat=input(\"Enter a line:\")\n",
        "output=change(stat)\n",
        "print(output)"
      ]
    }
  ]
}