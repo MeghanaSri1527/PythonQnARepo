{
  "nbformat": 4,
  "nbformat_minor": 0,
  "metadata": {
    "colab": {
      "provenance": [],
      "authorship_tag": "ABX9TyM2TOJ5Nr1fQ8+bTq8zXVpc",
      "include_colab_link": true
    },
    "kernelspec": {
      "name": "python3",
      "display_name": "Python 3"
    },
    "language_info": {
      "name": "python"
    }
  },
  "cells": [
    {
      "cell_type": "markdown",
      "metadata": {
        "id": "view-in-github",
        "colab_type": "text"
      },
      "source": [
        "<a href=\"https://colab.research.google.com/github/MeghanaSri1527/PythonQnARepo/blob/main/dollars_tip.ipynb\" target=\"_parent\"><img src=\"https://colab.research.google.com/assets/colab-badge.svg\" alt=\"Open In Colab\"/></a>"
      ]
    },
    {
      "cell_type": "code",
      "execution_count": null,
      "metadata": {
        "id": "i8ZJFFL7-9kI",
        "colab": {
          "base_uri": "https://localhost:8080/"
        },
        "outputId": "b621eb5f-d3cb-4bac-d346-a017452fb00c"
      },
      "outputs": [
        {
          "output_type": "stream",
          "name": "stdout",
          "text": [
            "How much was the meal? 50\n",
            "What percentage would you like to tip? 15\n",
            "Leave $7.50\n"
          ]
        }
      ],
      "source": [
        "def main():\n",
        "    dollars = dollars_to_float(input(\"How much was the meal? \"))\n",
        "    percent = percent_to_float(input(\"What percentage would you like to tip? \"))\n",
        "    tip = dollars * percent\n",
        "    print(f\"Leave ${tip:.2f}\")\n",
        "def dollars_to_float(d):\n",
        "    d=d.replace(\"$\",\"\")\n",
        "    return float(d)\n",
        "def percent_to_float(p):\n",
        "    p=p.replace(\"%\",\"\")\n",
        "    return float(p)/100\n",
        "main()\n"
      ]
    }
  ]
}