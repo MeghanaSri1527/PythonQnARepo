{
  "nbformat": 4,
  "nbformat_minor": 0,
  "metadata": {
    "colab": {
      "provenance": [],
      "authorship_tag": "ABX9TyOeA2unIJCuCmGaCifCR8VF",
      "include_colab_link": true
    },
    "kernelspec": {
      "name": "python3",
      "display_name": "Python 3"
    },
    "language_info": {
      "name": "python"
    }
  },
  "cells": [
    {
      "cell_type": "markdown",
      "metadata": {
        "id": "view-in-github",
        "colab_type": "text"
      },
      "source": [
        "<a href=\"https://colab.research.google.com/github/MeghanaSri1527/PythonQnARepo/blob/main/interpreter.ipynb\" target=\"_parent\"><img src=\"https://colab.research.google.com/assets/colab-badge.svg\" alt=\"Open In Colab\"/></a>"
      ]
    },
    {
      "cell_type": "code",
      "execution_count": null,
      "metadata": {
        "id": "6U-rOW_qHJ8n",
        "colab": {
          "base_uri": "https://localhost:8080/"
        },
        "outputId": "996e542d-2aaa-4699-9253-e7cb9c5b49fa"
      },
      "outputs": [
        {
          "output_type": "stream",
          "name": "stdout",
          "text": [
            "Enter the Expression: 6 - 4\n",
            "2.0\n"
          ]
        }
      ],
      "source": [
        "def main():\n",
        "    exp = input(\"Enter the Expression: \" )\n",
        "    calculate(exp)\n",
        "def calculate(e):\n",
        "    x, y, z = e.split(\" \")\n",
        "    if y == '+':\n",
        "        print(float(x)+float(z))\n",
        "    elif y == '-':\n",
        "        print(float(x)-float(z))\n",
        "    elif y == '*':\n",
        "        print(float(x)*float(z))\n",
        "    elif y == '/':\n",
        "        print(float(x)/float(z))\n",
        "    else:\n",
        "        print(\"wrong input\")\n",
        "main()\n"
      ]
    }
  ]
}