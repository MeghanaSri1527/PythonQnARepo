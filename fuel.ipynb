{
  "nbformat": 4,
  "nbformat_minor": 0,
  "metadata": {
    "colab": {
      "provenance": [],
      "authorship_tag": "ABX9TyOP2o5HGl8u3cvljspm2zQB",
      "include_colab_link": true
    },
    "kernelspec": {
      "name": "python3",
      "display_name": "Python 3"
    },
    "language_info": {
      "name": "python"
    }
  },
  "cells": [
    {
      "cell_type": "markdown",
      "metadata": {
        "id": "view-in-github",
        "colab_type": "text"
      },
      "source": [
        "<a href=\"https://colab.research.google.com/github/MeghanaSri1527/PythonQnARepo/blob/main/fuel.ipynb\" target=\"_parent\"><img src=\"https://colab.research.google.com/assets/colab-badge.svg\" alt=\"Open In Colab\"/></a>"
      ]
    },
    {
      "cell_type": "code",
      "execution_count": null,
      "metadata": {
        "colab": {
          "base_uri": "https://localhost:8080/"
        },
        "id": "4ocy4wN6-3R5",
        "outputId": "4b201a05-9be8-483f-d7f5-39eebbb8fde4"
      },
      "outputs": [
        {
          "output_type": "stream",
          "name": "stdout",
          "text": [
            "Enter fraction (X/Y): 1/2\n",
            "50%\n"
          ]
        }
      ],
      "source": [
        "def main():\n",
        "    while True:\n",
        "        try:\n",
        "            x, y = map(int, input(\"Enter fraction:\").split(\"/\"))\n",
        "            if y == 0:\n",
        "                print(\"denominator can't be zero\")\n",
        "                continue\n",
        "            if x > y:\n",
        "                print(\"x can't be greater than y. Please try again.\")\n",
        "                continue\n",
        "            break\n",
        "        except ValueError:\n",
        "            print(\"Invalid input.Please correct your input\")\n",
        "            continue\n",
        "    percentage = (x / y) * 100\n",
        "    if percentage <= 1:\n",
        "        print(\"E\")\n",
        "    elif percentage >= 99:\n",
        "        print(\"F\")\n",
        "    else:\n",
        "        print(f\"{round(percentage)}%\")\n",
        "if __name__ == \"__main__\":\n",
        "    main()"
      ]
    }
  ]
}