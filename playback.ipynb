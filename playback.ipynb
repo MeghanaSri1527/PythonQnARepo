{
  "nbformat": 4,
  "nbformat_minor": 0,
  "metadata": {
    "colab": {
      "provenance": [],
      "authorship_tag": "ABX9TyMLGeqhevihXQxVCKZK05mc",
      "include_colab_link": true
    },
    "kernelspec": {
      "name": "python3",
      "display_name": "Python 3"
    },
    "language_info": {
      "name": "python"
    }
  },
  "cells": [
    {
      "cell_type": "markdown",
      "metadata": {
        "id": "view-in-github",
        "colab_type": "text"
      },
      "source": [
        "<a href=\"https://colab.research.google.com/github/MeghanaSri1527/PythonQnARepo/blob/main/playback.ipynb\" target=\"_parent\"><img src=\"https://colab.research.google.com/assets/colab-badge.svg\" alt=\"Open In Colab\"/></a>"
      ]
    },
    {
      "cell_type": "code",
      "source": [
        "def replace(text):\n",
        "  result=\"\"\n",
        "  for char in text:\n",
        "    if char==' ':\n",
        "      result+='...'\n",
        "    else:\n",
        "      result+=char\n",
        "  return result\n",
        "user=input(\"Enter a text:\")\n",
        "output=replace(user)\n",
        "print(output)\n"
      ],
      "metadata": {
        "colab": {
          "base_uri": "https://localhost:8080/"
        },
        "id": "Lmcu3l6W9voq",
        "outputId": "346f0e79-5efd-4410-d373-dae7eed33a59"
      },
      "execution_count": null,
      "outputs": [
        {
          "output_type": "stream",
          "name": "stdout",
          "text": [
            "Enter a text:This is CSE-B\n",
            "This...is...CSE-B\n"
          ]
        }
      ]
    },
    {
      "cell_type": "code",
      "source": [
        "s=input()\n",
        "s=s.replace(' ','...')\n",
        "print(s)"
      ],
      "metadata": {
        "colab": {
          "base_uri": "https://localhost:8080/"
        },
        "id": "qrN-skXdAHH6",
        "outputId": "240f6a0f-5f18-4e7f-ee9d-d09c17d6c1ba"
      },
      "execution_count": null,
      "outputs": [
        {
          "output_type": "stream",
          "name": "stdout",
          "text": [
            "This is\n",
            "This...is\n"
          ]
        }
      ]
    }
  ]
}